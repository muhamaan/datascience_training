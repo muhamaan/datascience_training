{
 "cells": [
  {
   "cell_type": "markdown",
   "metadata": {},
   "source": [
    "! pip install googletrans==4.0.0rc1"
   ]
  },
  {
   "cell_type": "markdown",
   "metadata": {},
   "source": [
    "出力された予測値の解釈を行うノートブック（出力されたモデル・予測値の読み込みから）"
   ]
  },
  {
   "cell_type": "markdown",
   "metadata": {},
   "source": [
    "# 岡本編集"
   ]
  },
  {
   "cell_type": "markdown",
   "metadata": {},
   "source": [
    "## 必要なライブラリインストール"
   ]
  },
  {
   "cell_type": "code",
   "execution_count": null,
   "metadata": {},
   "outputs": [],
   "source": [
    "import pandas as pd\n",
    "import pickle\n",
    "import matplotlib.pyplot as plt\n",
    "import japanize_matplotlib\n",
    "import seaborn as sns\n",
    "%matplotlib inline"
   ]
  },
  {
   "cell_type": "code",
   "execution_count": null,
   "metadata": {},
   "outputs": [],
   "source": [
    "model = pickle.load(open('./model/RandomForestClassifier_2.pkl', 'rb'))\n",
    "model"
   ]
  },
  {
   "cell_type": "markdown",
   "metadata": {},
   "source": [
    "## データ読み込み"
   ]
  },
  {
   "cell_type": "code",
   "execution_count": null,
   "metadata": {},
   "outputs": [],
   "source": [
    "df = pd.read_csv('./data/processed_df_by_rf.csv')\n",
    "df.head()"
   ]
  },
  {
   "cell_type": "code",
   "execution_count": null,
   "metadata": {},
   "outputs": [],
   "source": []
  },
  {
   "cell_type": "markdown",
   "metadata": {},
   "source": [
    "## モデル解釈"
   ]
  },
  {
   "cell_type": "markdown",
   "metadata": {},
   "source": [
    "### 特徴量重要度"
   ]
  },
  {
   "cell_type": "code",
   "execution_count": null,
   "metadata": {},
   "outputs": [],
   "source": [
    "fit, ax = plt.subplots()\n",
    "ax.barh(model.feature_names_in_, model.feature_importances_)\n",
    "ax.set_title('特徴量重要度')\n",
    "plt.show()"
   ]
  },
  {
   "cell_type": "markdown",
   "metadata": {},
   "source": [
    "### 目的変数との関係性"
   ]
  },
  {
   "cell_type": "code",
   "execution_count": null,
   "metadata": {},
   "outputs": [],
   "source": [
    "fig, ax = plt.subplots(ncols=2,nrows=2,figsize=(15,10))\n",
    "ax[0,0].scatter(df['I-cnt'],df.pred,alpha=0.3)\n",
    "ax[0,0].set_xlabel('I-cnt')\n",
    "ax[0,0].set_ylabel('pred')\n",
    "ax[0,0].set_title('I_cnt VS pred')\n",
    "ax[0,1].scatter(df.word_len_avg,df.pred,alpha=0.3)\n",
    "ax[0,1].set_xlabel('word_len_avg')\n",
    "ax[0,1].set_ylabel('pred')\n",
    "ax[0,1].set_title('word_len_avg VS pred')\n",
    "ax[1,0].scatter(df.space_count,df.pred,alpha=0.3)\n",
    "ax[1,0].set_xlabel('space_count')\n",
    "ax[1,0].set_ylabel('pred')\n",
    "ax[1,0].set_title('space_count VS pred')\n",
    "ax[1,1].scatter(df.text_len,df.pred,alpha=0.3)\n",
    "ax[1,1].set_xlabel('text_len')\n",
    "ax[1,1].set_ylabel('pred')\n",
    "ax[1,1].set_title('text_len VS pred')"
   ]
  },
  {
   "cell_type": "code",
   "execution_count": null,
   "metadata": {},
   "outputs": [],
   "source": [
    "print(f'目的変数のユニーク：{df.score.unique()}')\n",
    "print(f'予測値のユニーク：{df.pred.unique()}')"
   ]
  },
  {
   "cell_type": "markdown",
   "metadata": {},
   "source": [
    "- かろうじて「text_len」が若干予測値と線形な関係にある\n",
    "- 予測値のユニークを確認した感じ、「score」の「１」と「６」が全く出力されていないのでそこがうまく学習されていない\n",
    "- 精度改善の方針としては、「１」と「６」の特徴を見出して新たな特徴量を作成することで学習をしやすくする"
   ]
  },
  {
   "cell_type": "markdown",
   "metadata": {},
   "source": [
    "### １，６可視化"
   ]
  },
  {
   "cell_type": "code",
   "execution_count": null,
   "metadata": {},
   "outputs": [],
   "source": [
    "df_tmp = df.select_dtypes(include=int)\n",
    "df_tmp.head()"
   ]
  },
  {
   "cell_type": "code",
   "execution_count": null,
   "metadata": {},
   "outputs": [],
   "source": [
    "for column in df_tmp.columns:\n",
    "    plt.scatter(df_tmp[column],df_tmp.score,alpha=0.3)\n",
    "    plt.title(f'{column} VS score')\n",
    "    plt.show()"
   ]
  },
  {
   "cell_type": "markdown",
   "metadata": {},
   "source": []
  }
 ],
 "metadata": {
  "language_info": {
   "codemirror_mode": {
    "name": "ipython",
    "version": 3
   },
   "file_extension": ".py",
   "mimetype": "text/x-python",
   "name": "python",
   "nbconvert_exporter": "python",
   "pygments_lexer": "ipython3"
  }
 },
 "nbformat": 4,
 "nbformat_minor": 2
}
